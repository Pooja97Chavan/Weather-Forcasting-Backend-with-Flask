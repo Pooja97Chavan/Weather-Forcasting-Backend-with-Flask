{
 "cells": [
  {
   "cell_type": "code",
   "execution_count": 5,
   "id": "327e1453",
   "metadata": {},
   "outputs": [],
   "source": [
    "import pandas as pd\n",
    "from sklearn.linear_model import LinearRegression \n",
    "import pickle"
   ]
  },
  {
   "cell_type": "code",
   "execution_count": 6,
   "id": "d6ac7963",
   "metadata": {},
   "outputs": [
    {
     "data": {
      "text/html": [
       "<div>\n",
       "<style scoped>\n",
       "    .dataframe tbody tr th:only-of-type {\n",
       "        vertical-align: middle;\n",
       "    }\n",
       "\n",
       "    .dataframe tbody tr th {\n",
       "        vertical-align: top;\n",
       "    }\n",
       "\n",
       "    .dataframe thead th {\n",
       "        text-align: right;\n",
       "    }\n",
       "</style>\n",
       "<table border=\"1\" class=\"dataframe\">\n",
       "  <thead>\n",
       "    <tr style=\"text-align: right;\">\n",
       "      <th></th>\n",
       "      <th>timestamp</th>\n",
       "      <th>temperature</th>\n",
       "      <th>humidity</th>\n",
       "      <th>pressure</th>\n",
       "      <th>wind_speed</th>\n",
       "      <th>rainfall</th>\n",
       "      <th>cloud_cover</th>\n",
       "    </tr>\n",
       "  </thead>\n",
       "  <tbody>\n",
       "    <tr>\n",
       "      <th>0</th>\n",
       "      <td>2025-09-01 00:00:00</td>\n",
       "      <td>27.483571</td>\n",
       "      <td>63.577874</td>\n",
       "      <td>997.055723</td>\n",
       "      <td>18.784943</td>\n",
       "      <td>4.814851</td>\n",
       "      <td>77.987109</td>\n",
       "    </tr>\n",
       "    <tr>\n",
       "      <th>1</th>\n",
       "      <td>2025-09-01 01:00:00</td>\n",
       "      <td>24.308678</td>\n",
       "      <td>65.607845</td>\n",
       "      <td>1007.006250</td>\n",
       "      <td>10.389173</td>\n",
       "      <td>0.451866</td>\n",
       "      <td>68.492674</td>\n",
       "    </tr>\n",
       "    <tr>\n",
       "      <th>2</th>\n",
       "      <td>2025-09-01 02:00:00</td>\n",
       "      <td>28.238443</td>\n",
       "      <td>70.830512</td>\n",
       "      <td>1013.052437</td>\n",
       "      <td>19.348030</td>\n",
       "      <td>2.288362</td>\n",
       "      <td>51.192607</td>\n",
       "    </tr>\n",
       "    <tr>\n",
       "      <th>3</th>\n",
       "      <td>2025-09-01 03:00:00</td>\n",
       "      <td>32.615149</td>\n",
       "      <td>70.538021</td>\n",
       "      <td>1013.469806</td>\n",
       "      <td>21.778189</td>\n",
       "      <td>0.613174</td>\n",
       "      <td>37.061264</td>\n",
       "    </tr>\n",
       "    <tr>\n",
       "      <th>4</th>\n",
       "      <td>2025-09-01 04:00:00</td>\n",
       "      <td>23.829233</td>\n",
       "      <td>46.223306</td>\n",
       "      <td>1008.499345</td>\n",
       "      <td>17.067175</td>\n",
       "      <td>0.696511</td>\n",
       "      <td>63.964466</td>\n",
       "    </tr>\n",
       "    <tr>\n",
       "      <th>...</th>\n",
       "      <td>...</td>\n",
       "      <td>...</td>\n",
       "      <td>...</td>\n",
       "      <td>...</td>\n",
       "      <td>...</td>\n",
       "      <td>...</td>\n",
       "      <td>...</td>\n",
       "    </tr>\n",
       "    <tr>\n",
       "      <th>195</th>\n",
       "      <td>2025-09-09 03:00:00</td>\n",
       "      <td>26.926587</td>\n",
       "      <td>55.308243</td>\n",
       "      <td>1007.899836</td>\n",
       "      <td>20.265764</td>\n",
       "      <td>1.156699</td>\n",
       "      <td>58.809495</td>\n",
       "    </tr>\n",
       "    <tr>\n",
       "      <th>196</th>\n",
       "      <td>2025-09-09 04:00:00</td>\n",
       "      <td>20.580713</td>\n",
       "      <td>42.868655</td>\n",
       "      <td>1010.301251</td>\n",
       "      <td>14.802224</td>\n",
       "      <td>7.393060</td>\n",
       "      <td>49.607244</td>\n",
       "    </tr>\n",
       "    <tr>\n",
       "      <th>197</th>\n",
       "      <td>2025-09-09 05:00:00</td>\n",
       "      <td>25.768626</td>\n",
       "      <td>73.538724</td>\n",
       "      <td>1003.212363</td>\n",
       "      <td>18.407503</td>\n",
       "      <td>3.922529</td>\n",
       "      <td>61.049799</td>\n",
       "    </tr>\n",
       "    <tr>\n",
       "      <th>198</th>\n",
       "      <td>2025-09-09 06:00:00</td>\n",
       "      <td>25.291044</td>\n",
       "      <td>58.854602</td>\n",
       "      <td>1008.557067</td>\n",
       "      <td>15.141592</td>\n",
       "      <td>0.286463</td>\n",
       "      <td>54.478283</td>\n",
       "    </tr>\n",
       "    <tr>\n",
       "      <th>199</th>\n",
       "      <td>2025-09-09 07:00:00</td>\n",
       "      <td>19.285149</td>\n",
       "      <td>72.378163</td>\n",
       "      <td>1016.773005</td>\n",
       "      <td>15.148781</td>\n",
       "      <td>3.717748</td>\n",
       "      <td>77.282809</td>\n",
       "    </tr>\n",
       "  </tbody>\n",
       "</table>\n",
       "<p>200 rows × 7 columns</p>\n",
       "</div>"
      ],
      "text/plain": [
       "               timestamp  temperature   humidity     pressure  wind_speed  \\\n",
       "0    2025-09-01 00:00:00    27.483571  63.577874   997.055723   18.784943   \n",
       "1    2025-09-01 01:00:00    24.308678  65.607845  1007.006250   10.389173   \n",
       "2    2025-09-01 02:00:00    28.238443  70.830512  1013.052437   19.348030   \n",
       "3    2025-09-01 03:00:00    32.615149  70.538021  1013.469806   21.778189   \n",
       "4    2025-09-01 04:00:00    23.829233  46.223306  1008.499345   17.067175   \n",
       "..                   ...          ...        ...          ...         ...   \n",
       "195  2025-09-09 03:00:00    26.926587  55.308243  1007.899836   20.265764   \n",
       "196  2025-09-09 04:00:00    20.580713  42.868655  1010.301251   14.802224   \n",
       "197  2025-09-09 05:00:00    25.768626  73.538724  1003.212363   18.407503   \n",
       "198  2025-09-09 06:00:00    25.291044  58.854602  1008.557067   15.141592   \n",
       "199  2025-09-09 07:00:00    19.285149  72.378163  1016.773005   15.148781   \n",
       "\n",
       "     rainfall  cloud_cover  \n",
       "0    4.814851    77.987109  \n",
       "1    0.451866    68.492674  \n",
       "2    2.288362    51.192607  \n",
       "3    0.613174    37.061264  \n",
       "4    0.696511    63.964466  \n",
       "..        ...          ...  \n",
       "195  1.156699    58.809495  \n",
       "196  7.393060    49.607244  \n",
       "197  3.922529    61.049799  \n",
       "198  0.286463    54.478283  \n",
       "199  3.717748    77.282809  \n",
       "\n",
       "[200 rows x 7 columns]"
      ]
     },
     "execution_count": 6,
     "metadata": {},
     "output_type": "execute_result"
    }
   ],
   "source": [
    "df=pd.read_csv('weather_data.csv')\n",
    "df"
   ]
  },
  {
   "cell_type": "code",
   "execution_count": 8,
   "id": "c18c1623",
   "metadata": {},
   "outputs": [
    {
     "name": "stdout",
     "output_type": "stream",
     "text": [
      "<class 'pandas.core.frame.DataFrame'>\n",
      "RangeIndex: 200 entries, 0 to 199\n",
      "Data columns (total 7 columns):\n",
      " #   Column       Non-Null Count  Dtype  \n",
      "---  ------       --------------  -----  \n",
      " 0   timestamp    200 non-null    object \n",
      " 1   temperature  200 non-null    float64\n",
      " 2   humidity     200 non-null    float64\n",
      " 3   pressure     200 non-null    float64\n",
      " 4   wind_speed   200 non-null    float64\n",
      " 5   rainfall     200 non-null    float64\n",
      " 6   cloud_cover  200 non-null    float64\n",
      "dtypes: float64(6), object(1)\n",
      "memory usage: 11.1+ KB\n"
     ]
    }
   ],
   "source": [
    "df.info()"
   ]
  },
  {
   "cell_type": "code",
   "execution_count": 9,
   "id": "9b284f80",
   "metadata": {},
   "outputs": [],
   "source": [
    "X=df[['humidity', 'pressure', 'wind_speed', 'rainfall', 'cloud_cover']]\n",
    "y=df['temperature']"
   ]
  },
  {
   "cell_type": "code",
   "execution_count": 12,
   "id": "9b67117d",
   "metadata": {},
   "outputs": [
    {
     "data": {
      "text/html": [
       "<style>#sk-container-id-2 {color: black;}#sk-container-id-2 pre{padding: 0;}#sk-container-id-2 div.sk-toggleable {background-color: white;}#sk-container-id-2 label.sk-toggleable__label {cursor: pointer;display: block;width: 100%;margin-bottom: 0;padding: 0.3em;box-sizing: border-box;text-align: center;}#sk-container-id-2 label.sk-toggleable__label-arrow:before {content: \"▸\";float: left;margin-right: 0.25em;color: #696969;}#sk-container-id-2 label.sk-toggleable__label-arrow:hover:before {color: black;}#sk-container-id-2 div.sk-estimator:hover label.sk-toggleable__label-arrow:before {color: black;}#sk-container-id-2 div.sk-toggleable__content {max-height: 0;max-width: 0;overflow: hidden;text-align: left;background-color: #f0f8ff;}#sk-container-id-2 div.sk-toggleable__content pre {margin: 0.2em;color: black;border-radius: 0.25em;background-color: #f0f8ff;}#sk-container-id-2 input.sk-toggleable__control:checked~div.sk-toggleable__content {max-height: 200px;max-width: 100%;overflow: auto;}#sk-container-id-2 input.sk-toggleable__control:checked~label.sk-toggleable__label-arrow:before {content: \"▾\";}#sk-container-id-2 div.sk-estimator input.sk-toggleable__control:checked~label.sk-toggleable__label {background-color: #d4ebff;}#sk-container-id-2 div.sk-label input.sk-toggleable__control:checked~label.sk-toggleable__label {background-color: #d4ebff;}#sk-container-id-2 input.sk-hidden--visually {border: 0;clip: rect(1px 1px 1px 1px);clip: rect(1px, 1px, 1px, 1px);height: 1px;margin: -1px;overflow: hidden;padding: 0;position: absolute;width: 1px;}#sk-container-id-2 div.sk-estimator {font-family: monospace;background-color: #f0f8ff;border: 1px dotted black;border-radius: 0.25em;box-sizing: border-box;margin-bottom: 0.5em;}#sk-container-id-2 div.sk-estimator:hover {background-color: #d4ebff;}#sk-container-id-2 div.sk-parallel-item::after {content: \"\";width: 100%;border-bottom: 1px solid gray;flex-grow: 1;}#sk-container-id-2 div.sk-label:hover label.sk-toggleable__label {background-color: #d4ebff;}#sk-container-id-2 div.sk-serial::before {content: \"\";position: absolute;border-left: 1px solid gray;box-sizing: border-box;top: 0;bottom: 0;left: 50%;z-index: 0;}#sk-container-id-2 div.sk-serial {display: flex;flex-direction: column;align-items: center;background-color: white;padding-right: 0.2em;padding-left: 0.2em;position: relative;}#sk-container-id-2 div.sk-item {position: relative;z-index: 1;}#sk-container-id-2 div.sk-parallel {display: flex;align-items: stretch;justify-content: center;background-color: white;position: relative;}#sk-container-id-2 div.sk-item::before, #sk-container-id-2 div.sk-parallel-item::before {content: \"\";position: absolute;border-left: 1px solid gray;box-sizing: border-box;top: 0;bottom: 0;left: 50%;z-index: -1;}#sk-container-id-2 div.sk-parallel-item {display: flex;flex-direction: column;z-index: 1;position: relative;background-color: white;}#sk-container-id-2 div.sk-parallel-item:first-child::after {align-self: flex-end;width: 50%;}#sk-container-id-2 div.sk-parallel-item:last-child::after {align-self: flex-start;width: 50%;}#sk-container-id-2 div.sk-parallel-item:only-child::after {width: 0;}#sk-container-id-2 div.sk-dashed-wrapped {border: 1px dashed gray;margin: 0 0.4em 0.5em 0.4em;box-sizing: border-box;padding-bottom: 0.4em;background-color: white;}#sk-container-id-2 div.sk-label label {font-family: monospace;font-weight: bold;display: inline-block;line-height: 1.2em;}#sk-container-id-2 div.sk-label-container {text-align: center;}#sk-container-id-2 div.sk-container {/* jupyter's `normalize.less` sets `[hidden] { display: none; }` but bootstrap.min.css set `[hidden] { display: none !important; }` so we also need the `!important` here to be able to override the default hidden behavior on the sphinx rendered scikit-learn.org. See: https://github.com/scikit-learn/scikit-learn/issues/21755 */display: inline-block !important;position: relative;}#sk-container-id-2 div.sk-text-repr-fallback {display: none;}</style><div id=\"sk-container-id-2\" class=\"sk-top-container\"><div class=\"sk-text-repr-fallback\"><pre>LinearRegression()</pre><b>In a Jupyter environment, please rerun this cell to show the HTML representation or trust the notebook. <br />On GitHub, the HTML representation is unable to render, please try loading this page with nbviewer.org.</b></div><div class=\"sk-container\" hidden><div class=\"sk-item\"><div class=\"sk-estimator sk-toggleable\"><input class=\"sk-toggleable__control sk-hidden--visually\" id=\"sk-estimator-id-2\" type=\"checkbox\" checked><label for=\"sk-estimator-id-2\" class=\"sk-toggleable__label sk-toggleable__label-arrow\">LinearRegression</label><div class=\"sk-toggleable__content\"><pre>LinearRegression()</pre></div></div></div></div></div>"
      ],
      "text/plain": [
       "LinearRegression()"
      ]
     },
     "execution_count": 12,
     "metadata": {},
     "output_type": "execute_result"
    }
   ],
   "source": [
    "model=LinearRegression()\n",
    "model.fit(X,y)"
   ]
  },
  {
   "cell_type": "code",
   "execution_count": 14,
   "id": "9aaea660",
   "metadata": {},
   "outputs": [],
   "source": [
    "pickle.dump(model,open('model.pkl','wb'))"
   ]
  },
  {
   "cell_type": "code",
   "execution_count": 15,
   "id": "8044e031",
   "metadata": {},
   "outputs": [
    {
     "data": {
      "text/plain": [
       "Index(['timestamp', 'temperature', 'humidity', 'pressure', 'wind_speed',\n",
       "       'rainfall', 'cloud_cover'],\n",
       "      dtype='object')"
      ]
     },
     "execution_count": 15,
     "metadata": {},
     "output_type": "execute_result"
    }
   ],
   "source": [
    "df.columns"
   ]
  },
  {
   "cell_type": "code",
   "execution_count": null,
   "id": "b576d1be",
   "metadata": {},
   "outputs": [],
   "source": []
  }
 ],
 "metadata": {
  "kernelspec": {
   "display_name": "Python 3 (ipykernel)",
   "language": "python",
   "name": "python3"
  },
  "language_info": {
   "codemirror_mode": {
    "name": "ipython",
    "version": 3
   },
   "file_extension": ".py",
   "mimetype": "text/x-python",
   "name": "python",
   "nbconvert_exporter": "python",
   "pygments_lexer": "ipython3",
   "version": "3.11.5"
  }
 },
 "nbformat": 4,
 "nbformat_minor": 5
}
